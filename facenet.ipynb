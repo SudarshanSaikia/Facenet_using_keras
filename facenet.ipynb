{
  "nbformat": 4,
  "nbformat_minor": 0,
  "metadata": {
    "colab": {
      "name": "Untitled0.ipynb",
      "provenance": []
    },
    "kernelspec": {
      "name": "python3",
      "display_name": "Python 3"
    }
  },
  "cells": [
    {
      "cell_type": "code",
      "metadata": {
        "id": "E3UOiPs0b32x",
        "colab_type": "code",
        "colab": {
          "base_uri": "https://localhost:8080/",
          "height": 387
        },
        "outputId": "98c1726a-956e-4f38-b57c-602e2ea963d0"
      },
      "source": [
        "!pip install Pillow==2.2.2"
      ],
      "execution_count": 1,
      "outputs": [
        {
          "output_type": "stream",
          "text": [
            "Collecting Pillow==2.2.2\n",
            "\u001b[?25l  Downloading https://files.pythonhosted.org/packages/90/6e/bd5decf0621e47c635448bf45760c06c473ca36fe6152f06dfb6ffa0518e/Pillow-2.2.2.zip (2.2MB)\n",
            "\r\u001b[K     |▏                               | 10kB 15.6MB/s eta 0:00:01\r\u001b[K     |▎                               | 20kB 2.1MB/s eta 0:00:02\r\u001b[K     |▍                               | 30kB 2.5MB/s eta 0:00:01\r\u001b[K     |▋                               | 40kB 2.7MB/s eta 0:00:01\r\u001b[K     |▊                               | 51kB 2.4MB/s eta 0:00:01\r\u001b[K     |▉                               | 61kB 2.7MB/s eta 0:00:01\r\u001b[K     |█                               | 71kB 2.9MB/s eta 0:00:01\r\u001b[K     |█▏                              | 81kB 3.2MB/s eta 0:00:01\r\u001b[K     |█▎                              | 92kB 3.5MB/s eta 0:00:01\r\u001b[K     |█▌                              | 102kB 3.4MB/s eta 0:00:01\r\u001b[K     |█▋                              | 112kB 3.4MB/s eta 0:00:01\r\u001b[K     |█▊                              | 122kB 3.4MB/s eta 0:00:01\r\u001b[K     |██                              | 133kB 3.4MB/s eta 0:00:01\r\u001b[K     |██                              | 143kB 3.4MB/s eta 0:00:01\r\u001b[K     |██▏                             | 153kB 3.4MB/s eta 0:00:01\r\u001b[K     |██▍                             | 163kB 3.4MB/s eta 0:00:01\r\u001b[K     |██▌                             | 174kB 3.4MB/s eta 0:00:01\r\u001b[K     |██▋                             | 184kB 3.4MB/s eta 0:00:01\r\u001b[K     |██▉                             | 194kB 3.4MB/s eta 0:00:01\r\u001b[K     |███                             | 204kB 3.4MB/s eta 0:00:01\r\u001b[K     |███                             | 215kB 3.4MB/s eta 0:00:01\r\u001b[K     |███▎                            | 225kB 3.4MB/s eta 0:00:01\r\u001b[K     |███▍                            | 235kB 3.4MB/s eta 0:00:01\r\u001b[K     |███▌                            | 245kB 3.4MB/s eta 0:00:01\r\u001b[K     |███▊                            | 256kB 3.4MB/s eta 0:00:01\r\u001b[K     |███▉                            | 266kB 3.4MB/s eta 0:00:01\r\u001b[K     |████                            | 276kB 3.4MB/s eta 0:00:01\r\u001b[K     |████▏                           | 286kB 3.4MB/s eta 0:00:01\r\u001b[K     |████▎                           | 296kB 3.4MB/s eta 0:00:01\r\u001b[K     |████▍                           | 307kB 3.4MB/s eta 0:00:01\r\u001b[K     |████▌                           | 317kB 3.4MB/s eta 0:00:01\r\u001b[K     |████▊                           | 327kB 3.4MB/s eta 0:00:01\r\u001b[K     |████▉                           | 337kB 3.4MB/s eta 0:00:01\r\u001b[K     |█████                           | 348kB 3.4MB/s eta 0:00:01\r\u001b[K     |█████▏                          | 358kB 3.4MB/s eta 0:00:01\r\u001b[K     |█████▎                          | 368kB 3.4MB/s eta 0:00:01\r\u001b[K     |█████▍                          | 378kB 3.4MB/s eta 0:00:01\r\u001b[K     |█████▋                          | 389kB 3.4MB/s eta 0:00:01\r\u001b[K     |█████▊                          | 399kB 3.4MB/s eta 0:00:01\r\u001b[K     |█████▉                          | 409kB 3.4MB/s eta 0:00:01\r\u001b[K     |██████                          | 419kB 3.4MB/s eta 0:00:01\r\u001b[K     |██████▏                         | 430kB 3.4MB/s eta 0:00:01\r\u001b[K     |██████▎                         | 440kB 3.4MB/s eta 0:00:01\r\u001b[K     |██████▌                         | 450kB 3.4MB/s eta 0:00:01\r\u001b[K     |██████▋                         | 460kB 3.4MB/s eta 0:00:01\r\u001b[K     |██████▊                         | 471kB 3.4MB/s eta 0:00:01\r\u001b[K     |███████                         | 481kB 3.4MB/s eta 0:00:01\r\u001b[K     |███████                         | 491kB 3.4MB/s eta 0:00:01\r\u001b[K     |███████▏                        | 501kB 3.4MB/s eta 0:00:01\r\u001b[K     |███████▍                        | 512kB 3.4MB/s eta 0:00:01\r\u001b[K     |███████▌                        | 522kB 3.4MB/s eta 0:00:01\r\u001b[K     |███████▋                        | 532kB 3.4MB/s eta 0:00:01\r\u001b[K     |███████▉                        | 542kB 3.4MB/s eta 0:00:01\r\u001b[K     |████████                        | 552kB 3.4MB/s eta 0:00:01\r\u001b[K     |████████                        | 563kB 3.4MB/s eta 0:00:01\r\u001b[K     |████████▎                       | 573kB 3.4MB/s eta 0:00:01\r\u001b[K     |████████▍                       | 583kB 3.4MB/s eta 0:00:01\r\u001b[K     |████████▌                       | 593kB 3.4MB/s eta 0:00:01\r\u001b[K     |████████▋                       | 604kB 3.4MB/s eta 0:00:01\r\u001b[K     |████████▉                       | 614kB 3.4MB/s eta 0:00:01\r\u001b[K     |█████████                       | 624kB 3.4MB/s eta 0:00:01\r\u001b[K     |█████████                       | 634kB 3.4MB/s eta 0:00:01\r\u001b[K     |█████████▎                      | 645kB 3.4MB/s eta 0:00:01\r\u001b[K     |█████████▍                      | 655kB 3.4MB/s eta 0:00:01\r\u001b[K     |█████████▌                      | 665kB 3.4MB/s eta 0:00:01\r\u001b[K     |█████████▊                      | 675kB 3.4MB/s eta 0:00:01\r\u001b[K     |█████████▉                      | 686kB 3.4MB/s eta 0:00:01\r\u001b[K     |██████████                      | 696kB 3.4MB/s eta 0:00:01\r\u001b[K     |██████████▏                     | 706kB 3.4MB/s eta 0:00:01\r\u001b[K     |██████████▎                     | 716kB 3.4MB/s eta 0:00:01\r\u001b[K     |██████████▍                     | 727kB 3.4MB/s eta 0:00:01\r\u001b[K     |██████████▋                     | 737kB 3.4MB/s eta 0:00:01\r\u001b[K     |██████████▊                     | 747kB 3.4MB/s eta 0:00:01\r\u001b[K     |██████████▉                     | 757kB 3.4MB/s eta 0:00:01\r\u001b[K     |███████████                     | 768kB 3.4MB/s eta 0:00:01\r\u001b[K     |███████████▏                    | 778kB 3.4MB/s eta 0:00:01\r\u001b[K     |███████████▎                    | 788kB 3.4MB/s eta 0:00:01\r\u001b[K     |███████████▌                    | 798kB 3.4MB/s eta 0:00:01\r\u001b[K     |███████████▋                    | 808kB 3.4MB/s eta 0:00:01\r\u001b[K     |███████████▊                    | 819kB 3.4MB/s eta 0:00:01\r\u001b[K     |████████████                    | 829kB 3.4MB/s eta 0:00:01\r\u001b[K     |████████████                    | 839kB 3.4MB/s eta 0:00:01\r\u001b[K     |████████████▏                   | 849kB 3.4MB/s eta 0:00:01\r\u001b[K     |████████████▍                   | 860kB 3.4MB/s eta 0:00:01\r\u001b[K     |████████████▌                   | 870kB 3.4MB/s eta 0:00:01\r\u001b[K     |████████████▋                   | 880kB 3.4MB/s eta 0:00:01\r\u001b[K     |████████████▊                   | 890kB 3.4MB/s eta 0:00:01\r\u001b[K     |█████████████                   | 901kB 3.4MB/s eta 0:00:01\r\u001b[K     |█████████████                   | 911kB 3.4MB/s eta 0:00:01\r\u001b[K     |█████████████▏                  | 921kB 3.4MB/s eta 0:00:01\r\u001b[K     |█████████████▍                  | 931kB 3.4MB/s eta 0:00:01\r\u001b[K     |█████████████▌                  | 942kB 3.4MB/s eta 0:00:01\r\u001b[K     |█████████████▋                  | 952kB 3.4MB/s eta 0:00:01\r\u001b[K     |█████████████▉                  | 962kB 3.4MB/s eta 0:00:01\r\u001b[K     |██████████████                  | 972kB 3.4MB/s eta 0:00:01\r\u001b[K     |██████████████                  | 983kB 3.4MB/s eta 0:00:01\r\u001b[K     |██████████████▎                 | 993kB 3.4MB/s eta 0:00:01\r\u001b[K     |██████████████▍                 | 1.0MB 3.4MB/s eta 0:00:01\r\u001b[K     |██████████████▌                 | 1.0MB 3.4MB/s eta 0:00:01\r\u001b[K     |██████████████▊                 | 1.0MB 3.4MB/s eta 0:00:01\r\u001b[K     |██████████████▉                 | 1.0MB 3.4MB/s eta 0:00:01\r\u001b[K     |███████████████                 | 1.0MB 3.4MB/s eta 0:00:01\r\u001b[K     |███████████████▏                | 1.1MB 3.4MB/s eta 0:00:01\r\u001b[K     |███████████████▎                | 1.1MB 3.4MB/s eta 0:00:01\r\u001b[K     |███████████████▍                | 1.1MB 3.4MB/s eta 0:00:01\r\u001b[K     |███████████████▋                | 1.1MB 3.4MB/s eta 0:00:01\r\u001b[K     |███████████████▊                | 1.1MB 3.4MB/s eta 0:00:01\r\u001b[K     |███████████████▉                | 1.1MB 3.4MB/s eta 0:00:01\r\u001b[K     |████████████████                | 1.1MB 3.4MB/s eta 0:00:01\r\u001b[K     |████████████████▏               | 1.1MB 3.4MB/s eta 0:00:01\r\u001b[K     |████████████████▎               | 1.1MB 3.4MB/s eta 0:00:01\r\u001b[K     |████████████████▌               | 1.1MB 3.4MB/s eta 0:00:01\r\u001b[K     |████████████████▋               | 1.2MB 3.4MB/s eta 0:00:01\r\u001b[K     |████████████████▊               | 1.2MB 3.4MB/s eta 0:00:01\r\u001b[K     |████████████████▉               | 1.2MB 3.4MB/s eta 0:00:01\r\u001b[K     |█████████████████               | 1.2MB 3.4MB/s eta 0:00:01\r\u001b[K     |█████████████████▏              | 1.2MB 3.4MB/s eta 0:00:01\r\u001b[K     |█████████████████▎              | 1.2MB 3.4MB/s eta 0:00:01\r\u001b[K     |█████████████████▌              | 1.2MB 3.4MB/s eta 0:00:01\r\u001b[K     |█████████████████▋              | 1.2MB 3.4MB/s eta 0:00:01\r\u001b[K     |█████████████████▊              | 1.2MB 3.4MB/s eta 0:00:01\r\u001b[K     |██████████████████              | 1.2MB 3.4MB/s eta 0:00:01\r\u001b[K     |██████████████████              | 1.3MB 3.4MB/s eta 0:00:01\r\u001b[K     |██████████████████▏             | 1.3MB 3.4MB/s eta 0:00:01\r\u001b[K     |██████████████████▍             | 1.3MB 3.4MB/s eta 0:00:01\r\u001b[K     |██████████████████▌             | 1.3MB 3.4MB/s eta 0:00:01\r\u001b[K     |██████████████████▋             | 1.3MB 3.4MB/s eta 0:00:01\r\u001b[K     |██████████████████▉             | 1.3MB 3.4MB/s eta 0:00:01\r\u001b[K     |███████████████████             | 1.3MB 3.4MB/s eta 0:00:01\r\u001b[K     |███████████████████             | 1.3MB 3.4MB/s eta 0:00:01\r\u001b[K     |███████████████████▎            | 1.3MB 3.4MB/s eta 0:00:01\r\u001b[K     |███████████████████▍            | 1.4MB 3.4MB/s eta 0:00:01\r\u001b[K     |███████████████████▌            | 1.4MB 3.4MB/s eta 0:00:01\r\u001b[K     |███████████████████▊            | 1.4MB 3.4MB/s eta 0:00:01\r\u001b[K     |███████████████████▉            | 1.4MB 3.4MB/s eta 0:00:01\r\u001b[K     |████████████████████            | 1.4MB 3.4MB/s eta 0:00:01\r\u001b[K     |████████████████████▏           | 1.4MB 3.4MB/s eta 0:00:01\r\u001b[K     |████████████████████▎           | 1.4MB 3.4MB/s eta 0:00:01\r\u001b[K     |████████████████████▍           | 1.4MB 3.4MB/s eta 0:00:01\r\u001b[K     |████████████████████▋           | 1.4MB 3.4MB/s eta 0:00:01\r\u001b[K     |████████████████████▊           | 1.4MB 3.4MB/s eta 0:00:01\r\u001b[K     |████████████████████▉           | 1.5MB 3.4MB/s eta 0:00:01\r\u001b[K     |█████████████████████           | 1.5MB 3.4MB/s eta 0:00:01\r\u001b[K     |█████████████████████▏          | 1.5MB 3.4MB/s eta 0:00:01\r\u001b[K     |█████████████████████▎          | 1.5MB 3.4MB/s eta 0:00:01\r\u001b[K     |█████████████████████▍          | 1.5MB 3.4MB/s eta 0:00:01\r\u001b[K     |█████████████████████▋          | 1.5MB 3.4MB/s eta 0:00:01\r\u001b[K     |█████████████████████▊          | 1.5MB 3.4MB/s eta 0:00:01\r\u001b[K     |█████████████████████▉          | 1.5MB 3.4MB/s eta 0:00:01\r\u001b[K     |██████████████████████          | 1.5MB 3.4MB/s eta 0:00:01\r\u001b[K     |██████████████████████▏         | 1.5MB 3.4MB/s eta 0:00:01\r\u001b[K     |██████████████████████▎         | 1.6MB 3.4MB/s eta 0:00:01\r\u001b[K     |██████████████████████▌         | 1.6MB 3.4MB/s eta 0:00:01\r\u001b[K     |██████████████████████▋         | 1.6MB 3.4MB/s eta 0:00:01\r\u001b[K     |██████████████████████▊         | 1.6MB 3.4MB/s eta 0:00:01\r\u001b[K     |███████████████████████         | 1.6MB 3.4MB/s eta 0:00:01\r\u001b[K     |███████████████████████         | 1.6MB 3.4MB/s eta 0:00:01\r\u001b[K     |███████████████████████▏        | 1.6MB 3.4MB/s eta 0:00:01\r\u001b[K     |███████████████████████▍        | 1.6MB 3.4MB/s eta 0:00:01\r\u001b[K     |███████████████████████▌        | 1.6MB 3.4MB/s eta 0:00:01\r\u001b[K     |███████████████████████▋        | 1.6MB 3.4MB/s eta 0:00:01\r\u001b[K     |███████████████████████▉        | 1.7MB 3.4MB/s eta 0:00:01\r\u001b[K     |████████████████████████        | 1.7MB 3.4MB/s eta 0:00:01\r\u001b[K     |████████████████████████        | 1.7MB 3.4MB/s eta 0:00:01\r\u001b[K     |████████████████████████▎       | 1.7MB 3.4MB/s eta 0:00:01\r\u001b[K     |████████████████████████▍       | 1.7MB 3.4MB/s eta 0:00:01\r\u001b[K     |████████████████████████▌       | 1.7MB 3.4MB/s eta 0:00:01\r\u001b[K     |████████████████████████▊       | 1.7MB 3.4MB/s eta 0:00:01\r\u001b[K     |████████████████████████▉       | 1.7MB 3.4MB/s eta 0:00:01\r\u001b[K     |█████████████████████████       | 1.7MB 3.4MB/s eta 0:00:01\r\u001b[K     |█████████████████████████       | 1.8MB 3.4MB/s eta 0:00:01\r\u001b[K     |█████████████████████████▎      | 1.8MB 3.4MB/s eta 0:00:01\r\u001b[K     |█████████████████████████▍      | 1.8MB 3.4MB/s eta 0:00:01\r\u001b[K     |█████████████████████████▌      | 1.8MB 3.4MB/s eta 0:00:01\r\u001b[K     |█████████████████████████▊      | 1.8MB 3.4MB/s eta 0:00:01\r\u001b[K     |█████████████████████████▉      | 1.8MB 3.4MB/s eta 0:00:01\r\u001b[K     |██████████████████████████      | 1.8MB 3.4MB/s eta 0:00:01\r\u001b[K     |██████████████████████████▏     | 1.8MB 3.4MB/s eta 0:00:01\r\u001b[K     |██████████████████████████▎     | 1.8MB 3.4MB/s eta 0:00:01\r\u001b[K     |██████████████████████████▍     | 1.8MB 3.4MB/s eta 0:00:01\r\u001b[K     |██████████████████████████▋     | 1.9MB 3.4MB/s eta 0:00:01\r\u001b[K     |██████████████████████████▊     | 1.9MB 3.4MB/s eta 0:00:01\r\u001b[K     |██████████████████████████▉     | 1.9MB 3.4MB/s eta 0:00:01\r\u001b[K     |███████████████████████████     | 1.9MB 3.4MB/s eta 0:00:01\r\u001b[K     |███████████████████████████▏    | 1.9MB 3.4MB/s eta 0:00:01\r\u001b[K     |███████████████████████████▎    | 1.9MB 3.4MB/s eta 0:00:01\r\u001b[K     |███████████████████████████▌    | 1.9MB 3.4MB/s eta 0:00:01\r\u001b[K     |███████████████████████████▋    | 1.9MB 3.4MB/s eta 0:00:01\r\u001b[K     |███████████████████████████▊    | 1.9MB 3.4MB/s eta 0:00:01\r\u001b[K     |████████████████████████████    | 1.9MB 3.4MB/s eta 0:00:01\r\u001b[K     |████████████████████████████    | 2.0MB 3.4MB/s eta 0:00:01\r\u001b[K     |████████████████████████████▏   | 2.0MB 3.4MB/s eta 0:00:01\r\u001b[K     |████████████████████████████▍   | 2.0MB 3.4MB/s eta 0:00:01\r\u001b[K     |████████████████████████████▌   | 2.0MB 3.4MB/s eta 0:00:01\r\u001b[K     |████████████████████████████▋   | 2.0MB 3.4MB/s eta 0:00:01\r\u001b[K     |████████████████████████████▉   | 2.0MB 3.4MB/s eta 0:00:01\r\u001b[K     |█████████████████████████████   | 2.0MB 3.4MB/s eta 0:00:01\r\u001b[K     |█████████████████████████████   | 2.0MB 3.4MB/s eta 0:00:01\r\u001b[K     |█████████████████████████████▏  | 2.0MB 3.4MB/s eta 0:00:01\r\u001b[K     |█████████████████████████████▍  | 2.0MB 3.4MB/s eta 0:00:01\r\u001b[K     |█████████████████████████████▌  | 2.1MB 3.4MB/s eta 0:00:01\r\u001b[K     |█████████████████████████████▋  | 2.1MB 3.4MB/s eta 0:00:01\r\u001b[K     |█████████████████████████████▉  | 2.1MB 3.4MB/s eta 0:00:01\r\u001b[K     |██████████████████████████████  | 2.1MB 3.4MB/s eta 0:00:01\r\u001b[K     |██████████████████████████████  | 2.1MB 3.4MB/s eta 0:00:01\r\u001b[K     |██████████████████████████████▎ | 2.1MB 3.4MB/s eta 0:00:01\r\u001b[K     |██████████████████████████████▍ | 2.1MB 3.4MB/s eta 0:00:01\r\u001b[K     |██████████████████████████████▌ | 2.1MB 3.4MB/s eta 0:00:01\r\u001b[K     |██████████████████████████████▊ | 2.1MB 3.4MB/s eta 0:00:01\r\u001b[K     |██████████████████████████████▉ | 2.2MB 3.4MB/s eta 0:00:01\r\u001b[K     |███████████████████████████████ | 2.2MB 3.4MB/s eta 0:00:01\r\u001b[K     |███████████████████████████████▏| 2.2MB 3.4MB/s eta 0:00:01\r\u001b[K     |███████████████████████████████▎| 2.2MB 3.4MB/s eta 0:00:01\r\u001b[K     |███████████████████████████████▍| 2.2MB 3.4MB/s eta 0:00:01\r\u001b[K     |███████████████████████████████▋| 2.2MB 3.4MB/s eta 0:00:01\r\u001b[K     |███████████████████████████████▊| 2.2MB 3.4MB/s eta 0:00:01\r\u001b[K     |███████████████████████████████▉| 2.2MB 3.4MB/s eta 0:00:01\r\u001b[K     |████████████████████████████████| 2.2MB 3.4MB/s \n",
            "\u001b[?25hBuilding wheels for collected packages: Pillow\n",
            "  Building wheel for Pillow (setup.py) ... \u001b[?25l\u001b[?25hdone\n",
            "  Created wheel for Pillow: filename=Pillow-2.2.2-cp36-cp36m-linux_x86_64.whl size=900022 sha256=aca88aa2407bc52ee08cfffe9fce3aaf7696e15a00ca977be7e2de3621665317\n",
            "  Stored in directory: /root/.cache/pip/wheels/ee/17/1b/f134fa1d8e13cf0077a8675af5259ddc6bbadcc574a1610f3d\n",
            "Successfully built Pillow\n",
            "\u001b[31mERROR: torchvision 0.6.1+cu101 has requirement pillow>=4.1.1, but you'll have pillow 2.2.2 which is incompatible.\u001b[0m\n",
            "\u001b[31mERROR: scikit-image 0.16.2 has requirement pillow>=4.3.0, but you'll have pillow 2.2.2 which is incompatible.\u001b[0m\n",
            "\u001b[31mERROR: bokeh 2.1.1 has requirement pillow>=4.0, but you'll have pillow 2.2.2 which is incompatible.\u001b[0m\n",
            "\u001b[31mERROR: albumentations 0.1.12 has requirement imgaug<0.2.7,>=0.2.5, but you'll have imgaug 0.2.9 which is incompatible.\u001b[0m\n",
            "Installing collected packages: Pillow\n",
            "  Found existing installation: Pillow 7.0.0\n",
            "    Uninstalling Pillow-7.0.0:\n",
            "      Successfully uninstalled Pillow-7.0.0\n",
            "Successfully installed Pillow-2.2.2\n"
          ],
          "name": "stdout"
        },
        {
          "output_type": "display_data",
          "data": {
            "application/vnd.colab-display-data+json": {
              "pip_warning": {
                "packages": [
                  "PIL"
                ]
              }
            }
          },
          "metadata": {
            "tags": []
          }
        }
      ]
    },
    {
      "cell_type": "code",
      "metadata": {
        "id": "wJrgD6l3in3S",
        "colab_type": "code",
        "colab": {}
      },
      "source": [
        "from PIL import Image "
      ],
      "execution_count": 1,
      "outputs": []
    },
    {
      "cell_type": "code",
      "metadata": {
        "id": "tpmdBq_Pb4l_",
        "colab_type": "code",
        "colab": {
          "base_uri": "https://localhost:8080/",
          "height": 121
        },
        "outputId": "345f6c7a-f393-4ffd-b171-698c1d42581a"
      },
      "source": [
        "from google.colab import drive\n",
        "drive.mount('/content/drive')"
      ],
      "execution_count": 2,
      "outputs": [
        {
          "output_type": "stream",
          "text": [
            "Go to this URL in a browser: https://accounts.google.com/o/oauth2/auth?client_id=947318989803-6bn6qk8qdgf4n4g3pfee6491hc0brc4i.apps.googleusercontent.com&redirect_uri=urn%3aietf%3awg%3aoauth%3a2.0%3aoob&response_type=code&scope=email%20https%3a%2f%2fwww.googleapis.com%2fauth%2fdocs.test%20https%3a%2f%2fwww.googleapis.com%2fauth%2fdrive%20https%3a%2f%2fwww.googleapis.com%2fauth%2fdrive.photos.readonly%20https%3a%2f%2fwww.googleapis.com%2fauth%2fpeopleapi.readonly\n",
            "\n",
            "Enter your authorization code:\n",
            "··········\n",
            "Mounted at /content/drive\n"
          ],
          "name": "stdout"
        }
      ]
    },
    {
      "cell_type": "code",
      "metadata": {
        "id": "NtG341wocqlz",
        "colab_type": "code",
        "colab": {
          "base_uri": "https://localhost:8080/",
          "height": 488
        },
        "outputId": "2012cae7-4035-4ebf-8ceb-cf5f736e0a7e"
      },
      "source": [
        "\n",
        "# example of loading the keras facenet model\n",
        "from keras.models import load_model\n",
        "# load the model\n",
        "model = load_model('facenet_keras.h5')\n",
        "# summarize input and output shape\n",
        "print(model.inputs)\n",
        "print(model.outputs)"
      ],
      "execution_count": 2,
      "outputs": [
        {
          "output_type": "stream",
          "text": [
            "Using TensorFlow backend.\n"
          ],
          "name": "stderr"
        },
        {
          "output_type": "error",
          "ename": "OSError",
          "evalue": "ignored",
          "traceback": [
            "\u001b[0;31m---------------------------------------------------------------------------\u001b[0m",
            "\u001b[0;31mOSError\u001b[0m                                   Traceback (most recent call last)",
            "\u001b[0;32m<ipython-input-2-cf043a7833c2>\u001b[0m in \u001b[0;36m<module>\u001b[0;34m()\u001b[0m\n\u001b[1;32m      3\u001b[0m \u001b[0;32mfrom\u001b[0m \u001b[0mkeras\u001b[0m\u001b[0;34m.\u001b[0m\u001b[0mmodels\u001b[0m \u001b[0;32mimport\u001b[0m \u001b[0mload_model\u001b[0m\u001b[0;34m\u001b[0m\u001b[0;34m\u001b[0m\u001b[0m\n\u001b[1;32m      4\u001b[0m \u001b[0;31m# load the model\u001b[0m\u001b[0;34m\u001b[0m\u001b[0;34m\u001b[0m\u001b[0;34m\u001b[0m\u001b[0m\n\u001b[0;32m----> 5\u001b[0;31m \u001b[0mmodel\u001b[0m \u001b[0;34m=\u001b[0m \u001b[0mload_model\u001b[0m\u001b[0;34m(\u001b[0m\u001b[0;34m'facenet_keras.h5'\u001b[0m\u001b[0;34m)\u001b[0m\u001b[0;34m\u001b[0m\u001b[0;34m\u001b[0m\u001b[0m\n\u001b[0m\u001b[1;32m      6\u001b[0m \u001b[0;31m# summarize input and output shape\u001b[0m\u001b[0;34m\u001b[0m\u001b[0;34m\u001b[0m\u001b[0;34m\u001b[0m\u001b[0m\n\u001b[1;32m      7\u001b[0m \u001b[0mprint\u001b[0m\u001b[0;34m(\u001b[0m\u001b[0mmodel\u001b[0m\u001b[0;34m.\u001b[0m\u001b[0minputs\u001b[0m\u001b[0;34m)\u001b[0m\u001b[0;34m\u001b[0m\u001b[0;34m\u001b[0m\u001b[0m\n",
            "\u001b[0;32m/usr/local/lib/python3.6/dist-packages/keras/engine/saving.py\u001b[0m in \u001b[0;36mload_wrapper\u001b[0;34m(*args, **kwargs)\u001b[0m\n\u001b[1;32m    490\u001b[0m                 \u001b[0mos\u001b[0m\u001b[0;34m.\u001b[0m\u001b[0mremove\u001b[0m\u001b[0;34m(\u001b[0m\u001b[0mtmp_filepath\u001b[0m\u001b[0;34m)\u001b[0m\u001b[0;34m\u001b[0m\u001b[0;34m\u001b[0m\u001b[0m\n\u001b[1;32m    491\u001b[0m             \u001b[0;32mreturn\u001b[0m \u001b[0mres\u001b[0m\u001b[0;34m\u001b[0m\u001b[0;34m\u001b[0m\u001b[0m\n\u001b[0;32m--> 492\u001b[0;31m         \u001b[0;32mreturn\u001b[0m \u001b[0mload_function\u001b[0m\u001b[0;34m(\u001b[0m\u001b[0;34m*\u001b[0m\u001b[0margs\u001b[0m\u001b[0;34m,\u001b[0m \u001b[0;34m**\u001b[0m\u001b[0mkwargs\u001b[0m\u001b[0;34m)\u001b[0m\u001b[0;34m\u001b[0m\u001b[0;34m\u001b[0m\u001b[0m\n\u001b[0m\u001b[1;32m    493\u001b[0m \u001b[0;34m\u001b[0m\u001b[0m\n\u001b[1;32m    494\u001b[0m     \u001b[0;32mreturn\u001b[0m \u001b[0mload_wrapper\u001b[0m\u001b[0;34m\u001b[0m\u001b[0;34m\u001b[0m\u001b[0m\n",
            "\u001b[0;32m/usr/local/lib/python3.6/dist-packages/keras/engine/saving.py\u001b[0m in \u001b[0;36mload_model\u001b[0;34m(filepath, custom_objects, compile)\u001b[0m\n\u001b[1;32m    581\u001b[0m \u001b[0;34m\u001b[0m\u001b[0m\n\u001b[1;32m    582\u001b[0m     \u001b[0;32mif\u001b[0m \u001b[0mH5Dict\u001b[0m\u001b[0;34m.\u001b[0m\u001b[0mis_supported_type\u001b[0m\u001b[0;34m(\u001b[0m\u001b[0mfilepath\u001b[0m\u001b[0;34m)\u001b[0m\u001b[0;34m:\u001b[0m\u001b[0;34m\u001b[0m\u001b[0;34m\u001b[0m\u001b[0m\n\u001b[0;32m--> 583\u001b[0;31m         \u001b[0;32mwith\u001b[0m \u001b[0mH5Dict\u001b[0m\u001b[0;34m(\u001b[0m\u001b[0mfilepath\u001b[0m\u001b[0;34m,\u001b[0m \u001b[0mmode\u001b[0m\u001b[0;34m=\u001b[0m\u001b[0;34m'r'\u001b[0m\u001b[0;34m)\u001b[0m \u001b[0;32mas\u001b[0m \u001b[0mh5dict\u001b[0m\u001b[0;34m:\u001b[0m\u001b[0;34m\u001b[0m\u001b[0;34m\u001b[0m\u001b[0m\n\u001b[0m\u001b[1;32m    584\u001b[0m             \u001b[0mmodel\u001b[0m \u001b[0;34m=\u001b[0m \u001b[0m_deserialize_model\u001b[0m\u001b[0;34m(\u001b[0m\u001b[0mh5dict\u001b[0m\u001b[0;34m,\u001b[0m \u001b[0mcustom_objects\u001b[0m\u001b[0;34m,\u001b[0m \u001b[0mcompile\u001b[0m\u001b[0;34m)\u001b[0m\u001b[0;34m\u001b[0m\u001b[0;34m\u001b[0m\u001b[0m\n\u001b[1;32m    585\u001b[0m     \u001b[0;32melif\u001b[0m \u001b[0mhasattr\u001b[0m\u001b[0;34m(\u001b[0m\u001b[0mfilepath\u001b[0m\u001b[0;34m,\u001b[0m \u001b[0;34m'write'\u001b[0m\u001b[0;34m)\u001b[0m \u001b[0;32mand\u001b[0m \u001b[0mcallable\u001b[0m\u001b[0;34m(\u001b[0m\u001b[0mfilepath\u001b[0m\u001b[0;34m.\u001b[0m\u001b[0mwrite\u001b[0m\u001b[0;34m)\u001b[0m\u001b[0;34m:\u001b[0m\u001b[0;34m\u001b[0m\u001b[0;34m\u001b[0m\u001b[0m\n",
            "\u001b[0;32m/usr/local/lib/python3.6/dist-packages/keras/utils/io_utils.py\u001b[0m in \u001b[0;36m__init__\u001b[0;34m(self, path, mode)\u001b[0m\n\u001b[1;32m    189\u001b[0m             \u001b[0mself\u001b[0m\u001b[0;34m.\u001b[0m\u001b[0m_is_file\u001b[0m \u001b[0;34m=\u001b[0m \u001b[0;32mFalse\u001b[0m\u001b[0;34m\u001b[0m\u001b[0;34m\u001b[0m\u001b[0m\n\u001b[1;32m    190\u001b[0m         \u001b[0;32melif\u001b[0m \u001b[0misinstance\u001b[0m\u001b[0;34m(\u001b[0m\u001b[0mpath\u001b[0m\u001b[0;34m,\u001b[0m \u001b[0msix\u001b[0m\u001b[0;34m.\u001b[0m\u001b[0mstring_types\u001b[0m\u001b[0;34m)\u001b[0m \u001b[0;32mor\u001b[0m \u001b[0m_is_path_instance\u001b[0m\u001b[0;34m(\u001b[0m\u001b[0mpath\u001b[0m\u001b[0;34m)\u001b[0m\u001b[0;34m:\u001b[0m\u001b[0;34m\u001b[0m\u001b[0;34m\u001b[0m\u001b[0m\n\u001b[0;32m--> 191\u001b[0;31m             \u001b[0mself\u001b[0m\u001b[0;34m.\u001b[0m\u001b[0mdata\u001b[0m \u001b[0;34m=\u001b[0m \u001b[0mh5py\u001b[0m\u001b[0;34m.\u001b[0m\u001b[0mFile\u001b[0m\u001b[0;34m(\u001b[0m\u001b[0mpath\u001b[0m\u001b[0;34m,\u001b[0m \u001b[0mmode\u001b[0m\u001b[0;34m=\u001b[0m\u001b[0mmode\u001b[0m\u001b[0;34m)\u001b[0m\u001b[0;34m\u001b[0m\u001b[0;34m\u001b[0m\u001b[0m\n\u001b[0m\u001b[1;32m    192\u001b[0m             \u001b[0mself\u001b[0m\u001b[0;34m.\u001b[0m\u001b[0m_is_file\u001b[0m \u001b[0;34m=\u001b[0m \u001b[0;32mTrue\u001b[0m\u001b[0;34m\u001b[0m\u001b[0;34m\u001b[0m\u001b[0m\n\u001b[1;32m    193\u001b[0m         \u001b[0;32melif\u001b[0m \u001b[0misinstance\u001b[0m\u001b[0;34m(\u001b[0m\u001b[0mpath\u001b[0m\u001b[0;34m,\u001b[0m \u001b[0mdict\u001b[0m\u001b[0;34m)\u001b[0m\u001b[0;34m:\u001b[0m\u001b[0;34m\u001b[0m\u001b[0;34m\u001b[0m\u001b[0m\n",
            "\u001b[0;32m/usr/local/lib/python3.6/dist-packages/h5py/_hl/files.py\u001b[0m in \u001b[0;36m__init__\u001b[0;34m(self, name, mode, driver, libver, userblock_size, swmr, rdcc_nslots, rdcc_nbytes, rdcc_w0, track_order, **kwds)\u001b[0m\n\u001b[1;32m    406\u001b[0m                 fid = make_fid(name, mode, userblock_size,\n\u001b[1;32m    407\u001b[0m                                \u001b[0mfapl\u001b[0m\u001b[0;34m,\u001b[0m \u001b[0mfcpl\u001b[0m\u001b[0;34m=\u001b[0m\u001b[0mmake_fcpl\u001b[0m\u001b[0;34m(\u001b[0m\u001b[0mtrack_order\u001b[0m\u001b[0;34m=\u001b[0m\u001b[0mtrack_order\u001b[0m\u001b[0;34m)\u001b[0m\u001b[0;34m,\u001b[0m\u001b[0;34m\u001b[0m\u001b[0;34m\u001b[0m\u001b[0m\n\u001b[0;32m--> 408\u001b[0;31m                                swmr=swmr)\n\u001b[0m\u001b[1;32m    409\u001b[0m \u001b[0;34m\u001b[0m\u001b[0m\n\u001b[1;32m    410\u001b[0m             \u001b[0;32mif\u001b[0m \u001b[0misinstance\u001b[0m\u001b[0;34m(\u001b[0m\u001b[0mlibver\u001b[0m\u001b[0;34m,\u001b[0m \u001b[0mtuple\u001b[0m\u001b[0;34m)\u001b[0m\u001b[0;34m:\u001b[0m\u001b[0;34m\u001b[0m\u001b[0;34m\u001b[0m\u001b[0m\n",
            "\u001b[0;32m/usr/local/lib/python3.6/dist-packages/h5py/_hl/files.py\u001b[0m in \u001b[0;36mmake_fid\u001b[0;34m(name, mode, userblock_size, fapl, fcpl, swmr)\u001b[0m\n\u001b[1;32m    171\u001b[0m         \u001b[0;32mif\u001b[0m \u001b[0mswmr\u001b[0m \u001b[0;32mand\u001b[0m \u001b[0mswmr_support\u001b[0m\u001b[0;34m:\u001b[0m\u001b[0;34m\u001b[0m\u001b[0;34m\u001b[0m\u001b[0m\n\u001b[1;32m    172\u001b[0m             \u001b[0mflags\u001b[0m \u001b[0;34m|=\u001b[0m \u001b[0mh5f\u001b[0m\u001b[0;34m.\u001b[0m\u001b[0mACC_SWMR_READ\u001b[0m\u001b[0;34m\u001b[0m\u001b[0;34m\u001b[0m\u001b[0m\n\u001b[0;32m--> 173\u001b[0;31m         \u001b[0mfid\u001b[0m \u001b[0;34m=\u001b[0m \u001b[0mh5f\u001b[0m\u001b[0;34m.\u001b[0m\u001b[0mopen\u001b[0m\u001b[0;34m(\u001b[0m\u001b[0mname\u001b[0m\u001b[0;34m,\u001b[0m \u001b[0mflags\u001b[0m\u001b[0;34m,\u001b[0m \u001b[0mfapl\u001b[0m\u001b[0;34m=\u001b[0m\u001b[0mfapl\u001b[0m\u001b[0;34m)\u001b[0m\u001b[0;34m\u001b[0m\u001b[0;34m\u001b[0m\u001b[0m\n\u001b[0m\u001b[1;32m    174\u001b[0m     \u001b[0;32melif\u001b[0m \u001b[0mmode\u001b[0m \u001b[0;34m==\u001b[0m \u001b[0;34m'r+'\u001b[0m\u001b[0;34m:\u001b[0m\u001b[0;34m\u001b[0m\u001b[0;34m\u001b[0m\u001b[0m\n\u001b[1;32m    175\u001b[0m         \u001b[0mfid\u001b[0m \u001b[0;34m=\u001b[0m \u001b[0mh5f\u001b[0m\u001b[0;34m.\u001b[0m\u001b[0mopen\u001b[0m\u001b[0;34m(\u001b[0m\u001b[0mname\u001b[0m\u001b[0;34m,\u001b[0m \u001b[0mh5f\u001b[0m\u001b[0;34m.\u001b[0m\u001b[0mACC_RDWR\u001b[0m\u001b[0;34m,\u001b[0m \u001b[0mfapl\u001b[0m\u001b[0;34m=\u001b[0m\u001b[0mfapl\u001b[0m\u001b[0;34m)\u001b[0m\u001b[0;34m\u001b[0m\u001b[0;34m\u001b[0m\u001b[0m\n",
            "\u001b[0;32mh5py/_objects.pyx\u001b[0m in \u001b[0;36mh5py._objects.with_phil.wrapper\u001b[0;34m()\u001b[0m\n",
            "\u001b[0;32mh5py/_objects.pyx\u001b[0m in \u001b[0;36mh5py._objects.with_phil.wrapper\u001b[0;34m()\u001b[0m\n",
            "\u001b[0;32mh5py/h5f.pyx\u001b[0m in \u001b[0;36mh5py.h5f.open\u001b[0;34m()\u001b[0m\n",
            "\u001b[0;31mOSError\u001b[0m: Unable to open file (unable to open file: name = 'facenet_keras.h5', errno = 2, error message = 'No such file or directory', flags = 0, o_flags = 0)"
          ]
        }
      ]
    },
    {
      "cell_type": "code",
      "metadata": {
        "id": "PAavBRqpc_Np",
        "colab_type": "code",
        "colab": {
          "base_uri": "https://localhost:8080/",
          "height": 34
        },
        "outputId": "69bc158f-8e5f-482e-a13e-de279c9b91c6"
      },
      "source": [
        "%cd drive/My Drive/facenet"
      ],
      "execution_count": 4,
      "outputs": [
        {
          "output_type": "stream",
          "text": [
            "/content/drive/My Drive/facenet\n"
          ],
          "name": "stdout"
        }
      ]
    },
    {
      "cell_type": "code",
      "metadata": {
        "id": "uke9OPhqdkEZ",
        "colab_type": "code",
        "colab": {
          "base_uri": "https://localhost:8080/",
          "height": 252
        },
        "outputId": "500a06fd-cd6e-4a33-9261-8eb9d24a9f52"
      },
      "source": [
        "!pip install mtcnn\n"
      ],
      "execution_count": 6,
      "outputs": [
        {
          "output_type": "stream",
          "text": [
            "Collecting mtcnn\n",
            "\u001b[?25l  Downloading https://files.pythonhosted.org/packages/67/43/abee91792797c609c1bf30f1112117f7a87a713ebaa6ec5201d5555a73ef/mtcnn-0.1.0-py3-none-any.whl (2.3MB)\n",
            "\u001b[K     |████████████████████████████████| 2.3MB 5.3MB/s \n",
            "\u001b[?25hRequirement already satisfied: keras>=2.0.0 in /usr/local/lib/python3.6/dist-packages (from mtcnn) (2.3.1)\n",
            "Requirement already satisfied: opencv-python>=4.1.0 in /usr/local/lib/python3.6/dist-packages (from mtcnn) (4.1.2.30)\n",
            "Requirement already satisfied: keras-preprocessing>=1.0.5 in /usr/local/lib/python3.6/dist-packages (from keras>=2.0.0->mtcnn) (1.1.2)\n",
            "Requirement already satisfied: numpy>=1.9.1 in /usr/local/lib/python3.6/dist-packages (from keras>=2.0.0->mtcnn) (1.18.5)\n",
            "Requirement already satisfied: scipy>=0.14 in /usr/local/lib/python3.6/dist-packages (from keras>=2.0.0->mtcnn) (1.4.1)\n",
            "Requirement already satisfied: six>=1.9.0 in /usr/local/lib/python3.6/dist-packages (from keras>=2.0.0->mtcnn) (1.15.0)\n",
            "Requirement already satisfied: pyyaml in /usr/local/lib/python3.6/dist-packages (from keras>=2.0.0->mtcnn) (3.13)\n",
            "Requirement already satisfied: h5py in /usr/local/lib/python3.6/dist-packages (from keras>=2.0.0->mtcnn) (2.10.0)\n",
            "Requirement already satisfied: keras-applications>=1.0.6 in /usr/local/lib/python3.6/dist-packages (from keras>=2.0.0->mtcnn) (1.0.8)\n",
            "Installing collected packages: mtcnn\n",
            "Successfully installed mtcnn-0.1.0\n"
          ],
          "name": "stdout"
        }
      ]
    },
    {
      "cell_type": "code",
      "metadata": {
        "id": "os05NRxDbG9S",
        "colab_type": "code",
        "colab": {
          "base_uri": "https://localhost:8080/",
          "height": 34
        },
        "outputId": "12b0eefb-77c2-4f78-f5b6-debdf45968f5"
      },
      "source": [
        "\n",
        "# confirm mtcnn was installed correctly\n",
        "import mtcnn\n",
        "# print version\n",
        "print(mtcnn.__version__)"
      ],
      "execution_count": 7,
      "outputs": [
        {
          "output_type": "stream",
          "text": [
            "0.1.0\n"
          ],
          "name": "stdout"
        }
      ]
    },
    {
      "cell_type": "code",
      "metadata": {
        "id": "l0ML3vL7eOl6",
        "colab_type": "code",
        "colab": {}
      },
      "source": [
        ""
      ],
      "execution_count": null,
      "outputs": []
    },
    {
      "cell_type": "code",
      "metadata": {
        "id": "qvzm9ffDjL8n",
        "colab_type": "code",
        "colab": {}
      },
      "source": [
        ""
      ],
      "execution_count": null,
      "outputs": []
    },
    {
      "cell_type": "markdown",
      "metadata": {
        "id": "iFadvbCv42u9",
        "colab_type": "text"
      },
      "source": [
        "**HERE** **WE** **GO**"
      ]
    },
    {
      "cell_type": "code",
      "metadata": {
        "id": "ICclvzp9bggA",
        "colab_type": "code",
        "colab": {}
      },
      "source": [
        "\n",
        "# demonstrate face detection on 5 Celebrity Faces Dataset\n",
        "from os import listdir\n",
        "from PIL import Image\n",
        "from numpy import asarray\n",
        "from matplotlib import pyplot\n",
        "from mtcnn.mtcnn import MTCNN\n",
        "from os.path import join, isdir, islink\n",
        "import numpy as np"
      ],
      "execution_count": 8,
      "outputs": []
    },
    {
      "cell_type": "code",
      "metadata": {
        "id": "SRXSJxdX41T8",
        "colab_type": "code",
        "colab": {}
      },
      "source": [
        "# extract a single face from a given photograph\n",
        "def extract_face(filename, required_size=(160, 160)):\n",
        "\t# load image from file\n",
        "\timage = Image.open(filename)\n",
        "\t# convert to RGB, if needed\n",
        "\timage = image.convert('RGB')\n",
        "\t# convert to array\n",
        "\tpixels = asarray(image)\n",
        "\t# create the detector, using default weights\n",
        "\tdetector = MTCNN()\n",
        "\t# detect faces in the image\n",
        "\tresults = detector.detect_faces(pixels)\n",
        "\t# extract the bounding box from the first face\n",
        "\tx1, y1, width, height = results[0]['box']\n",
        "\t# bug fix\n",
        "\tx1, y1 = abs(x1), abs(y1)\n",
        "\tx2, y2 = x1 + width, y1 + height\n",
        "\t# extract the face\n",
        "\tface = pixels[y1:y2, x1:x2]\n",
        "\t# resize pixels to the model size\n",
        "\timage = Image.fromarray(face)\n",
        "\timage = image.resize(required_size)\n",
        "\tface_array = asarray(image)\n",
        "\treturn face_array"
      ],
      "execution_count": 9,
      "outputs": []
    },
    {
      "cell_type": "code",
      "metadata": {
        "id": "zmsKdRVV41EX",
        "colab_type": "code",
        "colab": {
          "base_uri": "https://localhost:8080/",
          "height": 156
        },
        "outputId": "acca36d1-b980-4d9e-b43c-707915c25b4c"
      },
      "source": [
        "# specify folder to plot\n",
        "folder = 'data/train/ben_afflek/'\n",
        "i = 1\n",
        "# enumerate files\n",
        "for filename in listdir(folder):\n",
        "\t# path\n",
        "\tpath = folder + filename\n",
        "\t# get face\n",
        "\tface = extract_face(path)\n",
        "\tprint(i, face.shape)\n",
        "\t# plot\n",
        "\tpyplot.subplot(2, 7, i)\n",
        "\tpyplot.axis('off')\n",
        "\tpyplot.imshow(face)\n",
        "\ti += 1\n",
        "pyplot.show()"
      ],
      "execution_count": 11,
      "outputs": [
        {
          "output_type": "stream",
          "text": [
            "1 (160, 160, 3)\n",
            "2 (160, 160, 3)\n",
            "3 (160, 160, 3)\n",
            "4 (160, 160, 3)\n",
            "5 (160, 160, 3)\n"
          ],
          "name": "stdout"
        },
        {
          "output_type": "display_data",
          "data": {
            "image/png": "[encoded data removed]",
            "text/plain": [
              "<Figure size 432x288 with 5 Axes>"
            ]
          },
          "metadata": {
            "tags": [],
            "needs_background": "light"
          }
        }
      ]
    },
    {
      "cell_type": "code",
      "metadata": {
        "id": "K0ysgf0c7G9g",
        "colab_type": "code",
        "colab": {}
      },
      "source": [
        "\n",
        "# load images and extract faces for all images in a directory\n",
        "def load_faces(directory):\n",
        "\tfaces = list()\n",
        "\t# enumerate files\n",
        "\tfor filename in listdir(directory):\n",
        "\t\t# path\n",
        "\t\tpath = directory + filename\n",
        "\t\t# get face\n",
        "\t\tface = extract_face(path)\n",
        "\t\t# store\n",
        "\t\tfaces.append(face)\n",
        "\treturn faces"
      ],
      "execution_count": 12,
      "outputs": []
    },
    {
      "cell_type": "code",
      "metadata": {
        "id": "VqgHAQ5K7j2s",
        "colab_type": "code",
        "colab": {}
      },
      "source": [
        "# load a dataset that contains one subdir for each class that in turn contains images\n",
        "def load_dataset(directory):\n",
        "\tX, y = list(), list()\n",
        "\t# enumerate folders, on per class\n",
        "\tfor subdir in listdir(directory):\n",
        "\t\t# path\n",
        "\t\tpath = directory + subdir + '/'\n",
        "\t\t# skip any files that might be in the dir\n",
        "\t\tif not isdir(path):\n",
        "\t\t\tcontinue\n",
        "\t\t# load all faces in the subdirectory\n",
        "\t\tfaces = load_faces(path)\n",
        "\t\t# create labels\n",
        "\t\tlabels = [subdir for _ in range(len(faces))]\n",
        "\t\t# summarize progress\n",
        "\t\tprint('>loaded %d examples for class: %s' % (len(faces), subdir))\n",
        "\t\t# store\n",
        "\t\tX.extend(faces)\n",
        "\t\ty.extend(labels)\n",
        "\treturn asarray(X), asarray(y)"
      ],
      "execution_count": 13,
      "outputs": []
    },
    {
      "cell_type": "code",
      "metadata": {
        "id": "0hFb4u7B7l6E",
        "colab_type": "code",
        "colab": {
          "base_uri": "https://localhost:8080/",
          "height": 218
        },
        "outputId": "439a3084-2446-49d4-9ee6-b40e7509aa0a"
      },
      "source": [
        "\n",
        "\n",
        "# load train dataset\n",
        "trainX, trainy = load_dataset('data/train/')\n",
        "print(trainX.shape, trainy.shape)\n",
        "# load test dataset\n",
        "testX, testy = load_dataset('data/val/')\n",
        "print(testX.shape, testy.shape)\n",
        "# save arrays to one file in compressed format\n",
        "np.savez_compressed('5-celebrity-faces-dataset.npz', trainX, trainy, testX, testy)"
      ],
      "execution_count": 14,
      "outputs": [
        {
          "output_type": "stream",
          "text": [
            ">loaded 5 examples for class: ben_afflek\n",
            ">loaded 5 examples for class: mindy_kaling\n",
            ">loaded 5 examples for class: elton_john\n",
            ">loaded 5 examples for class: jerry_seinfeld\n",
            ">loaded 5 examples for class: madonna\n",
            "(25, 160, 160, 3) (25,)\n",
            ">loaded 2 examples for class: madonna\n",
            ">loaded 2 examples for class: elton_john\n",
            ">loaded 2 examples for class: ben_afflek\n",
            ">loaded 2 examples for class: jerry_seinfeld\n",
            ">loaded 2 examples for class: mindy_kaling\n",
            "(10, 160, 160, 3) (10,)\n"
          ],
          "name": "stdout"
        }
      ]
    },
    {
      "cell_type": "code",
      "metadata": {
        "id": "x6KEx0wvgBRi",
        "colab_type": "code",
        "colab": {
          "base_uri": "https://localhost:8080/",
          "height": 34
        },
        "outputId": "922d9502-128e-4601-88dc-9a07cbfbf831"
      },
      "source": [
        "\n",
        "\n",
        "# load the face dataset\n",
        "data = np.load('5-celebrity-faces-dataset.npz')\n",
        "trainX, trainy, testX, testy = data['arr_0'], data['arr_1'], data['arr_2'], data['arr_3']\n",
        "print('Loaded: ', trainX.shape, trainy.shape, testX.shape, testy.shape)"
      ],
      "execution_count": 15,
      "outputs": [
        {
          "output_type": "stream",
          "text": [
            "Loaded:  (25, 160, 160, 3) (25,) (10, 160, 160, 3) (10,)\n"
          ],
          "name": "stdout"
        }
      ]
    },
    {
      "cell_type": "code",
      "metadata": {
        "id": "0k6K3jFFiHyR",
        "colab_type": "code",
        "colab": {
          "base_uri": "https://localhost:8080/",
          "height": 67
        },
        "outputId": "6e5303fe-91ea-46f4-8c12-965494770cfd"
      },
      "source": [
        "\n",
        "# load the facenet model\n",
        "model = load_model('facenet_keras.h5')\n",
        "print('Loaded Model')"
      ],
      "execution_count": 16,
      "outputs": [
        {
          "output_type": "stream",
          "text": [
            "Loaded Model\n"
          ],
          "name": "stdout"
        },
        {
          "output_type": "stream",
          "text": [
            "/usr/local/lib/python3.6/dist-packages/keras/engine/saving.py:341: UserWarning: No training configuration found in save file: the model was *not* compiled. Compile it manually.\n",
            "  warnings.warn('No training configuration found in save file: '\n"
          ],
          "name": "stderr"
        }
      ]
    },
    {
      "cell_type": "code",
      "metadata": {
        "id": "O_IEZEALiuA3",
        "colab_type": "code",
        "colab": {}
      },
      "source": [
        "\n"
      ],
      "execution_count": null,
      "outputs": []
    },
    {
      "cell_type": "markdown",
      "metadata": {
        "id": "_py2EAUwxIzv",
        "colab_type": "text"
      },
      "source": [
        "**again** **here**"
      ]
    },
    {
      "cell_type": "code",
      "metadata": {
        "id": "TrhBobmWxIHL",
        "colab_type": "code",
        "colab": {}
      },
      "source": [
        "\n",
        "# calculate a face embedding for each face in the dataset using facenet\n",
        "from numpy import load\n",
        "from numpy import expand_dims\n",
        "from numpy import asarray\n",
        "from numpy import savez_compressed\n",
        "from keras.models import load_model"
      ],
      "execution_count": 18,
      "outputs": []
    },
    {
      "cell_type": "code",
      "metadata": {
        "id": "3LuvNcECxed1",
        "colab_type": "code",
        "colab": {}
      },
      "source": [
        "# get the face embedding for one face\n",
        "def get_embedding(model, face_pixels):\n",
        "\t# scale pixel values\n",
        "\tface_pixels = face_pixels.astype('float32')\n",
        "\t# standardize pixel values across channels (global)\n",
        "\tmean, std = face_pixels.mean(), face_pixels.std()\n",
        "\tface_pixels = (face_pixels - mean) / std\n",
        "\t# transform face into one sample\n",
        "\tsamples = expand_dims(face_pixels, axis=0)\n",
        "\t# make prediction to get embedding\n",
        "\tyhat = model.predict(samples)\n",
        "\treturn yhat[0]"
      ],
      "execution_count": 19,
      "outputs": []
    },
    {
      "cell_type": "code",
      "metadata": {
        "id": "NxYsDK5XyK5F",
        "colab_type": "code",
        "colab": {
          "base_uri": "https://localhost:8080/",
          "height": 101
        },
        "outputId": "a94230ee-82b9-4f3c-8c83-da70ae5f624c"
      },
      "source": [
        "# load the face dataset\n",
        "data = load('5-celebrity-faces-dataset.npz')\n",
        "trainX, trainy, testX, testy = data['arr_0'], data['arr_1'], data['arr_2'], data['arr_3']\n",
        "print('Loaded: ', trainX.shape, trainy.shape, testX.shape, testy.shape)\n",
        "# load the facenet model\n",
        "model = load_model('facenet_keras.h5')\n",
        "print('Loaded Model')\n",
        "# convert each face in the train set to an embedding\n",
        "newTrainX = list()\n",
        "for face_pixels in trainX:\n",
        "\tembedding = get_embedding(model, face_pixels)\n",
        "\tnewTrainX.append(embedding)\n",
        "newTrainX = asarray(newTrainX)\n",
        "print(newTrainX.shape)"
      ],
      "execution_count": 20,
      "outputs": [
        {
          "output_type": "stream",
          "text": [
            "Loaded:  (25, 160, 160, 3) (25,) (10, 160, 160, 3) (10,)\n"
          ],
          "name": "stdout"
        },
        {
          "output_type": "stream",
          "text": [
            "/usr/local/lib/python3.6/dist-packages/keras/engine/saving.py:341: UserWarning: No training configuration found in save file: the model was *not* compiled. Compile it manually.\n",
            "  warnings.warn('No training configuration found in save file: '\n"
          ],
          "name": "stderr"
        },
        {
          "output_type": "stream",
          "text": [
            "Loaded Model\n",
            "(25, 128)\n"
          ],
          "name": "stdout"
        }
      ]
    },
    {
      "cell_type": "code",
      "metadata": {
        "id": "CUoKzQU-1TsG",
        "colab_type": "code",
        "colab": {
          "base_uri": "https://localhost:8080/",
          "height": 34
        },
        "outputId": "7a44f777-6491-4dd6-eb65-bc1f4ab7b92f"
      },
      "source": [
        "# convert each face in the test set to an embedding\n",
        "newTestX = list()\n",
        "for face_pixels in testX:\n",
        "\tembedding = get_embedding(model, face_pixels)\n",
        "\tnewTestX.append(embedding)\n",
        "newTestX = asarray(newTestX)\n",
        "print(newTestX.shape)\n",
        "# save arrays to one file in compressed format\n",
        "savez_compressed('5-celebrity-faces-embeddings.npz', newTrainX, trainy, newTestX, testy)"
      ],
      "execution_count": 21,
      "outputs": [
        {
          "output_type": "stream",
          "text": [
            "(10, 128)\n"
          ],
          "name": "stdout"
        }
      ]
    },
    {
      "cell_type": "code",
      "metadata": {
        "id": "oNlXFyca1Yy_",
        "colab_type": "code",
        "colab": {}
      },
      "source": [
        "from numpy import load\n",
        "from sklearn.metrics import accuracy_score\n",
        "from sklearn.preprocessing import LabelEncoder\n",
        "from sklearn.preprocessing import Normalizer\n",
        "from sklearn.svm import SVC"
      ],
      "execution_count": 22,
      "outputs": []
    },
    {
      "cell_type": "code",
      "metadata": {
        "id": "yAvX7kBx1g7F",
        "colab_type": "code",
        "colab": {
          "base_uri": "https://localhost:8080/",
          "height": 34
        },
        "outputId": "80697b9d-6dec-4fad-bdd1-82459f8bb558"
      },
      "source": [
        "# load dataset\n",
        "data = load('5-celebrity-faces-embeddings.npz')\n",
        "trainX, trainy, testX, testy = data['arr_0'], data['arr_1'], data['arr_2'], data['arr_3']\n",
        "print('Dataset: train=%d, test=%d' % (trainX.shape[0], testX.shape[0]))"
      ],
      "execution_count": 23,
      "outputs": [
        {
          "output_type": "stream",
          "text": [
            "Dataset: train=25, test=10\n"
          ],
          "name": "stdout"
        }
      ]
    },
    {
      "cell_type": "code",
      "metadata": {
        "id": "Pz3iw03d1pQN",
        "colab_type": "code",
        "colab": {}
      },
      "source": [
        "# normalize input vectors\n",
        "in_encoder = Normalizer(norm='l2')\n",
        "trainX = in_encoder.transform(trainX)\n",
        "testX = in_encoder.transform(testX)"
      ],
      "execution_count": 24,
      "outputs": []
    },
    {
      "cell_type": "code",
      "metadata": {
        "id": "UjGOQABS1qoM",
        "colab_type": "code",
        "colab": {}
      },
      "source": [
        "# label encode targets\n",
        "out_encoder = LabelEncoder()\n",
        "out_encoder.fit(trainy)\n",
        "trainy = out_encoder.transform(trainy)\n",
        "testy = out_encoder.transform(testy)"
      ],
      "execution_count": 25,
      "outputs": []
    },
    {
      "cell_type": "code",
      "metadata": {
        "id": "9M0os-O21wVM",
        "colab_type": "code",
        "colab": {
          "base_uri": "https://localhost:8080/",
          "height": 84
        },
        "outputId": "aadfcfd6-0aa4-4847-e0da-45c9fff8350f"
      },
      "source": [
        "# fit model\n",
        "model = SVC(kernel='linear', probability=True)\n",
        "model.fit(trainX, trainy)"
      ],
      "execution_count": 26,
      "outputs": [
        {
          "output_type": "execute_result",
          "data": {
            "text/plain": [
              "SVC(C=1.0, break_ties=False, cache_size=200, class_weight=None, coef0=0.0,\n",
              "    decision_function_shape='ovr', degree=3, gamma='scale', kernel='linear',\n",
              "    max_iter=-1, probability=True, random_state=None, shrinking=True, tol=0.001,\n",
              "    verbose=False)"
            ]
          },
          "metadata": {
            "tags": []
          },
          "execution_count": 26
        }
      ]
    },
    {
      "cell_type": "code",
      "metadata": {
        "id": "GVC4F2ZH116d",
        "colab_type": "code",
        "colab": {}
      },
      "source": [
        "# predict\n",
        "yhat_train = model.predict(trainX)\n",
        "yhat_test = model.predict(testX)"
      ],
      "execution_count": 27,
      "outputs": []
    },
    {
      "cell_type": "code",
      "metadata": {
        "id": "kuevshUo15vM",
        "colab_type": "code",
        "colab": {}
      },
      "source": [
        "# score\n",
        "score_train = accuracy_score(trainy, yhat_train)\n",
        "score_test = accuracy_score(testy, yhat_test)"
      ],
      "execution_count": 28,
      "outputs": []
    },
    {
      "cell_type": "code",
      "metadata": {
        "id": "V7qHUnIC2BtE",
        "colab_type": "code",
        "colab": {
          "base_uri": "https://localhost:8080/",
          "height": 34
        },
        "outputId": "189a3c99-bf48-4564-d849-2aa533f00df3"
      },
      "source": [
        "# summarize\n",
        "print('Accuracy: train=%.3f, test=%.3f' % (score_train*100, score_test*100))"
      ],
      "execution_count": 29,
      "outputs": [
        {
          "output_type": "stream",
          "text": [
            "Accuracy: train=100.000, test=100.000\n"
          ],
          "name": "stdout"
        }
      ]
    },
    {
      "cell_type": "code",
      "metadata": {
        "id": "tZTO_3fv2VjQ",
        "colab_type": "code",
        "colab": {}
      },
      "source": [
        "\n",
        "# develop a classifier for the 5 Celebrity Faces Dataset\n",
        "from random import choice\n",
        "from numpy import load\n",
        "from numpy import expand_dims\n",
        "from sklearn.preprocessing import LabelEncoder\n",
        "from sklearn.preprocessing import Normalizer\n",
        "from sklearn.svm import SVC\n",
        "from matplotlib import pyplot"
      ],
      "execution_count": 30,
      "outputs": []
    },
    {
      "cell_type": "code",
      "metadata": {
        "id": "3U9H9Ur92aeG",
        "colab_type": "code",
        "colab": {}
      },
      "source": [
        "# load faces\n",
        "data = load('5-celebrity-faces-dataset.npz')\n",
        "testX_faces = data['arr_2']\n",
        "# load face embeddings\n",
        "data = load('5-celebrity-faces-embeddings.npz')\n",
        "trainX, trainy, testX, testy = data['arr_0'], data['arr_1'], data['arr_2'], data['arr_3']\n",
        "# normalize input vectors\n",
        "in_encoder = Normalizer(norm='l2')\n",
        "trainX = in_encoder.transform(trainX)\n",
        "testX = in_encoder.transform(testX)"
      ],
      "execution_count": 31,
      "outputs": []
    },
    {
      "cell_type": "code",
      "metadata": {
        "id": "jNxa7Ke-2l6d",
        "colab_type": "code",
        "colab": {}
      },
      "source": [
        "# label encode targets\n",
        "out_encoder = LabelEncoder()\n",
        "out_encoder.fit(trainy)\n",
        "trainy = out_encoder.transform(trainy)\n",
        "testy = out_encoder.transform(testy)\n",
        "# fit model\n",
        "model = SVC(kernel='linear', probability=True)\n",
        "model.fit(trainX, trainy)\n"
      ],
      "execution_count": 32,
      "outputs": []
    },
    {
      "cell_type": "code",
      "metadata": {
        "id": "W_JUVlCJ1Izu",
        "colab_type": "code",
        "colab": {}
      },
      "source": [
        "# test model on a random example from the test dataset\n",
        "selection = choice([i for i in range(testX.shape[0])])\n",
        "random_face_pixels = testX_faces[selection]\n",
        "random_face_emb = testX[selection]\n",
        "random_face_class = testy[selection]\n",
        "random_face_name = out_encoder.inverse_transform([random_face_class])"
      ],
      "execution_count": null,
      "outputs": []
    },
    {
      "cell_type": "code",
      "metadata": {
        "id": "N1CJZaqy2n3G",
        "colab_type": "code",
        "colab": {
          "base_uri": "https://localhost:8080/",
          "height": 314
        },
        "outputId": "070d687c-cd38-40e8-d6c6-8222b3f263f0"
      },
      "source": [
        "# prediction for the face\n",
        "samples = expand_dims(random_face_emb, axis=0)\n",
        "yhat_class = model.predict(samples)\n",
        "yhat_prob = model.predict_proba(samples)\n",
        "# get name\n",
        "class_index = yhat_class[0]\n",
        "class_probability = yhat_prob[0,class_index] * 100\n",
        "predict_names = out_encoder.inverse_transform(yhat_class)\n",
        "print('Predicted: %s (%.3f)' % (predict_names[0], class_probability))\n",
        "print('Expected: %s' % random_face_name[0])\n",
        "# plot for fun\n",
        "pyplot.imshow(random_face_pixels)\n",
        "title = '%s (%.3f)' % (predict_names[0], class_probability)\n",
        "pyplot.title(title)\n",
        "pyplot.show()"
      ],
      "execution_count": 33,
      "outputs": [
        {
          "output_type": "stream",
          "text": [
            "Predicted: mindy_kaling (62.886)\n",
            "Expected: mindy_kaling\n"
          ],
          "name": "stdout"
        },
        {
          "output_type": "display_data",
          "data": {
            "image/png": "[encoded data removed]",
            "text/plain": [
              "<Figure size 432x288 with 1 Axes>"
            ]
          },
          "metadata": {
            "tags": [],
            "needs_background": "light"
          }
        }
      ]
    }
  ]
}